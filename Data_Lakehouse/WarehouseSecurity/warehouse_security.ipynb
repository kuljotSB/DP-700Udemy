{
 "cells": [
  {
   "cell_type": "markdown",
   "metadata": {},
   "source": [
    "## Implementing Data Warehouse Security in Microsoft Fabric"
   ]
  },
  {
   "cell_type": "markdown",
   "metadata": {},
   "source": [
    "#### Create a new \"Patients\" table in the Data Warehouse"
   ]
  },
  {
   "cell_type": "code",
   "execution_count": null,
   "metadata": {},
   "outputs": [],
   "source": [
    "CREATE TABLE dbo.Patients\n",
    "(   \n",
    "    PatientID INT NOT NULL,   \n",
    "    FirstName VARCHAR(50) MASKED WITH (FUNCTION = 'partial(1,\"XXXXXXX\",0)') NULL,     \n",
    "    LastName VARCHAR(50) NOT NULL,     \n",
    "    Phone VARCHAR(20) MASKED WITH (FUNCTION = 'default()') NULL,     \n",
    "    Email VARCHAR(50) MASKED WITH (FUNCTION = 'email()') NULL,   \n",
    "    DateOfBirth DATE MASKED WITH (FUNCTION = 'default()') NULL,\n",
    "    MedicalRecordNumber VARCHAR(20) MASKED WITH (FUNCTION = 'partial(0,\"XXXXXXXXXX\",4)') NOT NULL\n",
    ");\n",
    "   \n",
    "INSERT INTO dbo.Patients (PatientID, FirstName, LastName, Phone, Email, DateOfBirth, MedicalRecordNumber) VALUES\n",
    "(1001, 'John', 'Doe', '555-123-4567', 'john.doe@example.com', '1985-06-15', 'MRN-1234567890'),\n",
    "(1002, 'Jane', 'Smith', '444-987-6543', 'jane.smith@example.com', '1990-09-22', 'MRN-0987654321'),\n",
    "(1003, 'Robert', 'Brown', '333-456-7890', 'robert.brown@example.com', '1978-03-10', 'MRN-5678901234');\n",
    "\n",
    "SELECT * FROM dbo.Patients;\n"
   ]
  },
  {
   "cell_type": "markdown",
   "metadata": {},
   "source": [
    "#### Grant UNMASK to the 2nd User with \"Viewer\" Role assigned for the workspace"
   ]
  },
  {
   "cell_type": "code",
   "execution_count": null,
   "metadata": {},
   "outputs": [],
   "source": [
    " GRANT UNMASK ON dbo.Patients TO [<username>@<your_domain>.com];"
   ]
  },
  {
   "cell_type": "markdown",
   "metadata": {},
   "source": [
    "#### Create a Salary Table for Row-Level Security (RLS) Implementation"
   ]
  },
  {
   "cell_type": "code",
   "execution_count": null,
   "metadata": {},
   "outputs": [],
   "source": [
    "CREATE TABLE dbo.Salary  \n",
    "(  \n",
    "    EmployeeID INT,  \n",
    "    EmployeeEmail VARCHAR(60),  \n",
    "    Position VARCHAR(50),  \n",
    "    Salary DECIMAL(10,2) MASKED WITH (FUNCTION = 'default()')  \n",
    ");\n",
    "    \n",
    "-- Populate the table with 6 rows of data\n",
    "INSERT INTO dbo.Salary (EmployeeID, EmployeeEmail, Position, Salary) VALUES\n",
    "(101, 'employee1@company.com', 'Software Engineer', 85000.00),   \n",
    "(102, 'employee2@company.com', 'Data Scientist', 92000.00),   \n",
    "(103, 'employee3@company.com', 'Project Manager', 105000.00),  \n",
    "(104, 'employee4@company.com', 'DevOps Engineer', 98000.00),   \n",
    "(105, 'employee5@company.com', 'Business Analyst', 88000.00),   \n",
    "(106, 'employee6@company.com', 'HR Manager', 75000.00);  \n",
    "    \n",
    "SELECT * FROM dbo.Salary;  \n"
   ]
  },
  {
   "cell_type": "markdown",
   "metadata": {},
   "source": [
    "#### Create a Security Predicate Function and a Security Policy for RLS (Row-Level Security)"
   ]
  },
  {
   "cell_type": "code",
   "execution_count": null,
   "metadata": {},
   "outputs": [],
   "source": [
    "--Create a separate schema to hold the row-level security objects (the predicate function and the security policy)\n",
    "CREATE SCHEMA rls;\n",
    "GO\n",
    "   \n",
    "/*Create the security predicate defined as an inline table-valued function.\n",
    "A predicate evaluates to true (1) or false (0). This security predicate returns 1,\n",
    "meaning a row is accessible, when a row in the EmployeeEmail column is the same as the user\n",
    "executing the query.*/   \n",
    "--Create a function to evaluate who is querying the table\n",
    "CREATE FUNCTION rls.fn_securitypredicate(@EmployeeEmail AS VARCHAR(60)) \n",
    "    RETURNS TABLE  \n",
    "WITH SCHEMABINDING  \n",
    "AS  \n",
    "    RETURN SELECT 1 AS fn_securitypredicate_result   \n",
    "WHERE @EmployeeEmail = USER_NAME();\n",
    "GO   \n",
    "/*Create a security policy to invoke and enforce the function each time a query is run on the Salary table.\n",
    "The security policy has a filter predicate that silently filters the rows available to \n",
    "read operations (SELECT, UPDATE, and DELETE). */\n",
    "CREATE SECURITY POLICY SalaryFilter \n",
    "ADD FILTER PREDICATE rls.fn_securitypredicate(EmployeeEmail)   \n",
    "ON dbo.Salary  \n",
    "WITH (STATE = ON);\n",
    "GO"
   ]
  },
  {
   "cell_type": "markdown",
   "metadata": {},
   "source": [
    "#### Denying 2nd user the permission to view the \"MedicalRecordNumber\" column in the Patients table"
   ]
  },
  {
   "cell_type": "code",
   "execution_count": null,
   "metadata": {},
   "outputs": [],
   "source": [
    "DENY SELECT ON dbo.Patients (MedicalRecordNumber) TO [username@your_domain.com];"
   ]
  }
 ],
 "metadata": {
  "language_info": {
   "name": "python"
  }
 },
 "nbformat": 4,
 "nbformat_minor": 2
}
