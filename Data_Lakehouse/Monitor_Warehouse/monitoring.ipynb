{
 "cells": [
  {
   "cell_type": "markdown",
   "metadata": {},
   "source": [
    "## Monitoring a Data Warehouse in Microsoft Fabric"
   ]
  },
  {
   "cell_type": "markdown",
   "metadata": {},
   "source": [
    "#### query the sys.dm_exec_connections DMV"
   ]
  },
  {
   "cell_type": "code",
   "execution_count": null,
   "metadata": {},
   "outputs": [],
   "source": [
    "SELECT * FROM sys.dm_exec_connections;"
   ]
  },
  {
   "cell_type": "markdown",
   "metadata": {},
   "source": [
    "#### query the sys.dm_exec_sessions DMV"
   ]
  },
  {
   "cell_type": "code",
   "execution_count": null,
   "metadata": {},
   "outputs": [],
   "source": [
    "SELECT * FROM sys.dm_exec_sessions;"
   ]
  },
  {
   "cell_type": "markdown",
   "metadata": {},
   "source": [
    "#### query the sys.dm_exec_requests DMV"
   ]
  },
  {
   "cell_type": "code",
   "execution_count": null,
   "metadata": {},
   "outputs": [],
   "source": [
    "SELECT * FROM sys.dm_exec_requests;"
   ]
  },
  {
   "cell_type": "markdown",
   "metadata": {},
   "source": [
    "#### join the DMVs and return information about currently running requests in the same database"
   ]
  },
  {
   "cell_type": "code",
   "execution_count": null,
   "metadata": {},
   "outputs": [],
   "source": [
    "SELECT connections.connection_id,\n",
    " sessions.session_id, sessions.login_name, sessions.login_time,\n",
    " requests.command, requests.start_time, requests.total_elapsed_time\n",
    "FROM sys.dm_exec_connections AS connections\n",
    "INNER JOIN sys.dm_exec_sessions AS sessions\n",
    "    ON connections.session_id=sessions.session_id\n",
    "INNER JOIN sys.dm_exec_requests AS requests\n",
    "    ON requests.session_id = sessions.session_id\n",
    "WHERE requests.status = 'running'\n",
    "    AND requests.database_id = DB_ID()\n",
    "ORDER BY requests.total_elapsed_time DESC;"
   ]
  },
  {
   "cell_type": "markdown",
   "metadata": {},
   "source": [
    "#### query the exec_requests_history view"
   ]
  },
  {
   "cell_type": "code",
   "execution_count": null,
   "metadata": {},
   "outputs": [],
   "source": [
    "SELECT * FROM queryinsights.exec_requests_history;"
   ]
  },
  {
   "cell_type": "markdown",
   "metadata": {},
   "source": [
    "#### query the frequently_run_queries view"
   ]
  },
  {
   "cell_type": "code",
   "execution_count": null,
   "metadata": {},
   "outputs": [],
   "source": [
    "SELECT * FROM queryinsights.frequently_run_queries;"
   ]
  },
  {
   "cell_type": "markdown",
   "metadata": {},
   "source": [
    "#### query the long_running_queries view"
   ]
  },
  {
   "cell_type": "code",
   "execution_count": null,
   "metadata": {},
   "outputs": [],
   "source": [
    "SELECT * FROM queryinsights.long_running_queries;"
   ]
  }
 ],
 "metadata": {
  "language_info": {
   "name": "python"
  }
 },
 "nbformat": 4,
 "nbformat_minor": 2
}
