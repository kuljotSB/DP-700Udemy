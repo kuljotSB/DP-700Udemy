{
 "cells": [
  {
   "cell_type": "markdown",
   "metadata": {},
   "source": [
    "# Querying Real-Time Data with KQL"
   ]
  },
  {
   "cell_type": "markdown",
   "metadata": {},
   "source": [
    "#### Taking first 10 values of the table"
   ]
  },
  {
   "cell_type": "code",
   "execution_count": null,
   "metadata": {},
   "outputs": [],
   "source": [
    "stock\n",
    " | take 10"
   ]
  },
  {
   "cell_type": "markdown",
   "metadata": {},
   "source": [
    "#### Return certain columns"
   ]
  },
  {
   "cell_type": "code",
   "execution_count": null,
   "metadata": {},
   "outputs": [],
   "source": [
    "stock\n",
    "| project symbol, sector, securityType"
   ]
  },
  {
   "cell_type": "markdown",
   "metadata": {},
   "source": [
    "#### Usage of a filter \"Where\""
   ]
  },
  {
   "cell_type": "code",
   "execution_count": null,
   "metadata": {},
   "outputs": [],
   "source": [
    " stock\n",
    " | where [\"time\"] > ago(5m)\n",
    " | summarize avgPrice = avg(todecimal(bidPrice)) by symbol\n",
    " | project symbol, avgPrice"
   ]
  },
  {
   "cell_type": "code",
   "execution_count": null,
   "metadata": {},
   "outputs": [],
   "source": [
    "stock\n",
    "| where todouble(bidPrice) > 350\n",
    "| project symbol, sector, securityType, bidPrice"
   ]
  },
  {
   "cell_type": "code",
   "execution_count": null,
   "metadata": {},
   "outputs": [],
   "source": [
    "stock\n",
    "| where ingestion_time() > ago(1h)\n",
    "| project symbol, sector, securityType, bidPrice"
   ]
  },
  {
   "cell_type": "markdown",
   "metadata": {},
   "source": [
    "#### Table Summarization"
   ]
  },
  {
   "cell_type": "code",
   "execution_count": null,
   "metadata": {},
   "outputs": [],
   "source": [
    "stock\n",
    "| summarize average_bid_size = avg(todouble(bidSize)) by symbol, sector, securityType\n",
    "| project symbol, sector, securityType, average_bid_size\n",
    "| sort by average_bid_size desc"
   ]
  },
  {
   "cell_type": "markdown",
   "metadata": {},
   "source": [
    "#### Creating a function/stored procedure"
   ]
  },
  {
   "cell_type": "code",
   "execution_count": null,
   "metadata": {},
   "outputs": [],
   "source": [
    ".create-or-alter function stocks_by_min_bidPrice(bidPriceValue: double)\n",
    "{\n",
    "    stock\n",
    "    | where todouble(bidPrice) > bidPriceValue\n",
    "    | project symbol, sector, securityType,  bidPrice\n",
    "}"
   ]
  },
  {
   "cell_type": "code",
   "execution_count": null,
   "metadata": {},
   "outputs": [],
   "source": [
    "stocks_by_min_bidPrice(350)\n",
    "| take 10"
   ]
  }
 ],
 "metadata": {
  "language_info": {
   "name": "python"
  }
 },
 "nbformat": 4,
 "nbformat_minor": 2
}
