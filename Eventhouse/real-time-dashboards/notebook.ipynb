{
 "cells": [
  {
   "cell_type": "markdown",
   "metadata": {},
   "source": [
    "# Working with Real-Time Dashboards in Fabric"
   ]
  },
  {
   "cell_type": "markdown",
   "metadata": {},
   "source": [
    "#### Fetch total number of bikes and empty docks from data of last half an hour"
   ]
  },
  {
   "cell_type": "code",
   "execution_count": null,
   "metadata": {},
   "outputs": [],
   "source": [
    "bikes\n",
    "     | where ingestion_time() between (ago(30min) .. now())\n",
    "     | summarize latest_observation = arg_max(ingestion_time(), *) by Neighbourhood\n",
    "     | project Neighbourhood, latest_observation, No_Bikes, No_Empty_Docks\n",
    "     | order by Neighbourhood asc"
   ]
  },
  {
   "cell_type": "markdown",
   "metadata": {},
   "source": [
    "#### Fetch Bike station location from the data of last half an hour"
   ]
  },
  {
   "cell_type": "code",
   "execution_count": null,
   "metadata": {},
   "outputs": [],
   "source": [
    "bikes\n",
    "     | where ingestion_time() between (ago(30min) .. now())\n",
    "     | summarize latest_observation = arg_max(ingestion_time(), *) by Neighbourhood\n",
    "     | project Neighbourhood, latest_observation, Latitude, Longitude, No_Bikes\n",
    "     | order by Neighbourhood asc"
   ]
  },
  {
   "cell_type": "markdown",
   "metadata": {},
   "source": [
    "#### Adding a base query for reusability"
   ]
  },
  {
   "cell_type": "code",
   "execution_count": null,
   "metadata": {},
   "outputs": [],
   "source": [
    "bikes\n",
    "     | where ingestion_time() between (ago(30min) .. now())\n",
    "     | summarize latest_observation = arg_max(ingestion_time(), *) by Neighbourhood"
   ]
  },
  {
   "cell_type": "markdown",
   "metadata": {},
   "source": [
    "#### Changing the base query to accomodate \"Location\" parameter selection"
   ]
  },
  {
   "cell_type": "code",
   "execution_count": null,
   "metadata": {},
   "outputs": [],
   "source": [
    "bikes\n",
    "     | where ingestion_time() between (ago(30min) .. now())\n",
    "       and (isempty(['selected_neighbourhoods']) or Neighbourhood  in (['selected_neighbourhoods']))\n",
    "     | summarize latest_observation = arg_max(ingestion_time(), *) by Neighbourhood"
   ]
  }
 ],
 "metadata": {
  "language_info": {
   "name": "python"
  }
 },
 "nbformat": 4,
 "nbformat_minor": 2
}
